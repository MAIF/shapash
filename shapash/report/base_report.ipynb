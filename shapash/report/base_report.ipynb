{
 "cells": [
  {
   "cell_type": "code",
   "execution_count": null,
   "id": "filled-favorite",
   "metadata": {},
   "outputs": [],
   "source": [
    "%load_ext autoreload\n",
    "%autoreload 2"
   ]
  },
  {
   "cell_type": "code",
   "execution_count": null,
   "id": "coordinate-shower",
   "metadata": {
    "tags": [
     "parameters"
    ]
   },
   "outputs": [],
   "source": [
    "dir_path = ''\n",
    "project_info_file = ''\n",
    "config = dict()"
   ]
  },
  {
   "cell_type": "code",
   "execution_count": null,
   "id": "atlantic-fever",
   "metadata": {},
   "outputs": [],
   "source": [
    "import os\n",
    "import warnings\n",
    "warnings.filterwarnings('ignore')\n",
    "from shapash.explainer.smart_explainer import SmartExplainer\n",
    "from shapash.report.project_report import ProjectReport\n",
    "from shapash.report.common import load_saved_df\n",
    "\n",
    "xpl = SmartExplainer()\n",
    "xpl.load(os.path.join(dir_path, 'smart_explainer.pickle'))\n",
    "\n",
    "x_train = load_saved_df(os.path.join(dir_path, 'x_train.csv'))\n",
    "y_train = load_saved_df(os.path.join(dir_path, 'y_train.csv'))\n",
    "y_test = load_saved_df(os.path.join(dir_path, 'y_test.csv'))\n",
    "\n",
    "report = ProjectReport(\n",
    "    explainer=xpl, \n",
    "    project_info_file=project_info_file, \n",
    "    x_train=x_train, \n",
    "    y_train=y_train,\n",
    "    y_test=y_test, \n",
    "    config=config\n",
    ")"
   ]
  },
  {
   "cell_type": "code",
   "execution_count": null,
   "id": "altered-medicare",
   "metadata": {},
   "outputs": [],
   "source": [
    "report.display_title_description()"
   ]
  },
  {
   "cell_type": "code",
   "execution_count": null,
   "id": "specified-vietnamese",
   "metadata": {},
   "outputs": [],
   "source": [
    "report.display_project_information()"
   ]
  },
  {
   "cell_type": "markdown",
   "id": "steady-transfer",
   "metadata": {},
   "source": [
    "## Model analysis"
   ]
  },
  {
   "cell_type": "code",
   "execution_count": null,
   "id": "serial-bulgaria",
   "metadata": {},
   "outputs": [],
   "source": [
    "report.display_model_analysis()"
   ]
  },
  {
   "cell_type": "markdown",
   "id": "beginning-silicon",
   "metadata": {},
   "source": [
    "## Dataset analysis"
   ]
  },
  {
   "cell_type": "code",
   "execution_count": null,
   "id": "planned-mayor",
   "metadata": {
    "scrolled": false
   },
   "outputs": [],
   "source": [
    "report.display_dataset_analysis()"
   ]
  },
  {
   "cell_type": "markdown",
   "id": "attempted-bikini",
   "metadata": {},
   "source": [
    "## Model explainability"
   ]
  },
  {
   "cell_type": "code",
   "execution_count": null,
   "id": "secondary-dividend",
   "metadata": {
    "scrolled": false
   },
   "outputs": [],
   "source": [
    "report.display_model_explainability()"
   ]
  },
  {
   "cell_type": "markdown",
   "id": "australian-photograph",
   "metadata": {},
   "source": [
    "## Model performance"
   ]
  },
  {
   "cell_type": "code",
   "execution_count": null,
   "id": "breeding-techno",
   "metadata": {},
   "outputs": [],
   "source": [
    "report.display_model_performance()"
   ]
  },
  {
   "cell_type": "code",
   "execution_count": null,
   "id": "arbitrary-baker",
   "metadata": {},
   "outputs": [],
   "source": []
  }
 ],
 "metadata": {
  "celltoolbar": "Tags",
  "hide_input": false,
  "kernelspec": {
   "display_name": "Python 3",
   "language": "python",
   "name": "python3"
  },
  "language_info": {
   "codemirror_mode": {
    "name": "ipython",
    "version": 3
   },
   "file_extension": ".py",
   "mimetype": "text/x-python",
   "name": "python",
   "nbconvert_exporter": "python",
   "pygments_lexer": "ipython3",
   "version": "3.8.5"
  }
 },
 "nbformat": 4,
 "nbformat_minor": 5
}
