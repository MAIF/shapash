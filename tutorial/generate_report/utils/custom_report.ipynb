{
 "cells": [
  {
   "cell_type": "code",
   "execution_count": null,
   "id": "threatened-gamma",
   "metadata": {
    "tags": [
     "parameters"
    ]
   },
   "outputs": [],
   "source": [
    "# These parameter are replaced by papermill during execution but can be used to work interactively on your report\n",
    "# You need to use the generate_report once with the parameter working_dir='../working' \n",
    "# to use the following values. This way the objects used below are created in the directory.\n",
    "dir_path = '../working'  \n",
    "project_info_file = '../utils/project_info.yml'\n",
    "config = dict(\n",
    "    title_story=\"House prices report\",\n",
    "    title_description=\"\"\"This document is a data science report of the kaggle house prices tutorial project. \n",
    "        It was generated using the Shapash library.\"\"\",\n",
    "    metrics=[\n",
    "        {\n",
    "            'path': 'sklearn.metrics.mean_absolute_error',\n",
    "            'name': 'Mean absolute error', \n",
    "        },\n",
    "        {\n",
    "            'path': 'sklearn.metrics.mean_squared_error',\n",
    "            'name': 'Mean squared error',\n",
    "        }\n",
    "    ]\n",
    ")"
   ]
  },
  {
   "cell_type": "code",
   "execution_count": null,
   "id": "taken-tomorrow",
   "metadata": {},
   "outputs": [],
   "source": [
    "import os\n",
    "import pandas as pd\n",
    "from shapash import SmartExplainer\n",
    "from shapash.report.project_report import ProjectReport\n",
    "from shapash.report.common import load_saved_df\n",
    "\n",
    "xpl = SmartExplainer.load(os.path.join(dir_path, 'smart_explainer.pickle'))\n",
    "\n",
    "x_train = load_saved_df(os.path.join(dir_path, 'x_train.csv'))\n",
    "y_train = load_saved_df(os.path.join(dir_path, 'y_train.csv'))\n",
    "y_test = load_saved_df(os.path.join(dir_path, 'y_test.csv'))\n",
    "\n",
    "report = ProjectReport(\n",
    "    explainer=xpl, \n",
    "    project_info_file=project_info_file, \n",
    "    x_train=x_train, \n",
    "    y_train=y_train,\n",
    "    y_test=y_test, \n",
    "    config=config\n",
    ")"
   ]
  },
  {
   "cell_type": "code",
   "execution_count": null,
   "id": "peaceful-frame",
   "metadata": {},
   "outputs": [],
   "source": [
    "report.display_title_description()"
   ]
  },
  {
   "cell_type": "code",
   "execution_count": null,
   "id": "decreased-philadelphia",
   "metadata": {},
   "outputs": [],
   "source": [
    "report.display_project_information()"
   ]
  },
  {
   "cell_type": "markdown",
   "id": "fourth-confusion",
   "metadata": {},
   "source": [
    "## Model information"
   ]
  },
  {
   "cell_type": "code",
   "execution_count": null,
   "id": "union-person",
   "metadata": {},
   "outputs": [],
   "source": [
    "report.display_model_analysis()"
   ]
  },
  {
   "cell_type": "markdown",
   "id": "regional-centre",
   "metadata": {},
   "source": [
    "## Dataset analysis"
   ]
  },
  {
   "cell_type": "code",
   "execution_count": null,
   "id": "rational-breakfast",
   "metadata": {},
   "outputs": [],
   "source": [
    "report.display_dataset_analysis(multivariate_analysis=False)"
   ]
  },
  {
   "cell_type": "markdown",
   "id": "fitted-uncle",
   "metadata": {},
   "source": [
    "### Relashionship with target variable"
   ]
  },
  {
   "cell_type": "code",
   "execution_count": null,
   "id": "front-employment",
   "metadata": {},
   "outputs": [],
   "source": [
    "import seaborn as sns\n",
    "import matplotlib.pyplot as plt"
   ]
  },
  {
   "cell_type": "code",
   "execution_count": null,
   "id": "collectible-upgrade",
   "metadata": {},
   "outputs": [],
   "source": [
    "df_train = report.x_train_pre\n",
    "y_train = report.y_train\n",
    "df_train['SalePrice'] = y_train"
   ]
  },
  {
   "cell_type": "code",
   "execution_count": null,
   "id": "monthly-reply",
   "metadata": {},
   "outputs": [],
   "source": [
    "f, ax = plt.subplots(figsize=(8, 6))\n",
    "fig = sns.boxplot(x='OverallQual', y=\"SalePrice\", data=df_train)\n",
    "fig.axis(ymin=0, ymax=800000)\n",
    "plt.show()"
   ]
  },
  {
   "cell_type": "markdown",
   "id": "subtle-amazon",
   "metadata": {},
   "source": [
    "### Relashionship between training variables"
   ]
  },
  {
   "cell_type": "code",
   "execution_count": null,
   "id": "packed-vermont",
   "metadata": {},
   "outputs": [],
   "source": [
    "corr_matrix = df_train.corr()\n",
    "f, ax = plt.subplots(figsize=(16, 12))\n",
    "sns.heatmap(corr_matrix, vmax=.8, square=True, cmap=\"YlGnBu\")\n",
    "plt.show()"
   ]
  },
  {
   "cell_type": "markdown",
   "id": "romance-division",
   "metadata": {},
   "source": [
    "## Model explainability"
   ]
  },
  {
   "cell_type": "code",
   "execution_count": null,
   "id": "accessible-favorite",
   "metadata": {},
   "outputs": [],
   "source": [
    "# Note : Plotly graphs may not show correctly in notebook but still work in html output file.\n",
    "report.display_model_explainability()"
   ]
  },
  {
   "cell_type": "markdown",
   "id": "unknown-transaction",
   "metadata": {},
   "source": [
    "## Model performance"
   ]
  },
  {
   "cell_type": "code",
   "execution_count": null,
   "id": "ignored-career",
   "metadata": {},
   "outputs": [],
   "source": [
    "report.display_model_performance()"
   ]
  },
  {
   "cell_type": "markdown",
   "id": "noble-seafood",
   "metadata": {},
   "source": [
    "**The graph below represents y_pred vs y_test :**"
   ]
  },
  {
   "cell_type": "code",
   "execution_count": null,
   "id": "filled-challenge",
   "metadata": {},
   "outputs": [],
   "source": [
    "y_test = report.y_test\n",
    "y_pred = report.y_pred\n",
    "\n",
    "sns.scatterplot(x=y_test, y=y_pred)\n",
    "plt.xlabel('y_test')\n",
    "plt.ylabel('y_pred')\n",
    "plt.title('y_pred vs y_test')\n",
    "plt.show()"
   ]
  },
  {
   "cell_type": "markdown",
   "id": "efficient-badge",
   "metadata": {},
   "source": [
    "You can add as many graphs, text, or other cells as you want.\n",
    "\n",
    "The code will not be displayed. Only the markdown and output of the cells will be shown on the generated html file."
   ]
  },
  {
   "cell_type": "code",
   "execution_count": null,
   "id": "passive-peoples",
   "metadata": {},
   "outputs": [],
   "source": []
  }
 ],
 "metadata": {
  "celltoolbar": "Tags",
  "hide_input": false,
  "kernelspec": {
   "display_name": "Python 3 (ipykernel)",
   "language": "python",
   "name": "python3"
  },
  "language_info": {
   "codemirror_mode": {
    "name": "ipython",
    "version": 3
   },
   "file_extension": ".py",
   "mimetype": "text/x-python",
   "name": "python",
   "nbconvert_exporter": "python",
   "pygments_lexer": "ipython3",
   "version": "3.7.11"
  }
 },
 "nbformat": 4,
 "nbformat_minor": 5
}
