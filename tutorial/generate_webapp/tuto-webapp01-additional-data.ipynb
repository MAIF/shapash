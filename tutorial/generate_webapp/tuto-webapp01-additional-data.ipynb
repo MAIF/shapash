{
 "cells": [
  {
   "attachments": {},
   "cell_type": "markdown",
   "metadata": {},
   "source": [
    "# Add features outside of the model for more exploration options\n",
    "\n",
    "Shapash SmartExplainer `compile` method has optional parameters `additional_data` and `additional_features_dict` which allows the user to **add features outside of the model for the WebApp**. Those additional features can be useful for further exploration and understanding of how the model works.\n",
    "\n",
    "This tutorial details an adequate use case.\n",
    "\n",
    "Data from Kaggle [US Accidents](https://www.kaggle.com/datasets/sobhanmoosavi/us-accidents).\n",
    "\n",
    "In this tutorial, the data are not loaded raw. A data preparation to facilitate the use of the tutorial has been done. You can find it here: [Eurybia - Data Preparation](https://github.com/MAIF/eurybia/blob/master/eurybia/data/dataprep_US_car_accidents.ipynb)."
   ]
  },
  {
   "cell_type": "code",
   "execution_count": null,
   "metadata": {},
   "outputs": [],
   "source": [
    "import pandas as pd\n",
    "from sklearn.model_selection import train_test_split\n",
    "import catboost\n",
    "from category_encoders import OrdinalEncoder"
   ]
  },
  {
   "cell_type": "code",
   "execution_count": null,
   "metadata": {},
   "outputs": [],
   "source": [
    "from shapash.data.data_loader import data_loading\n",
    "df_car_accident = data_loading(\"us_car_accident\")"
   ]
  },
  {
   "attachments": {},
   "cell_type": "markdown",
   "metadata": {},
   "source": [
    "## Building Supervized Model \n",
    "\n",
    "Here we are creating a binary classification model to predict the severity of an accident. We train and predict regardless of the year in which the accidents occur."
   ]
  },
  {
   "cell_type": "code",
   "execution_count": null,
   "metadata": {},
   "outputs": [],
   "source": [
    "y = df_car_accident[\"target\"]\n",
    "X = df_car_accident.drop([\"target\", \"target_multi\", \"year_acc\", \"Description\"], axis=1)\n",
    "\n",
    "features = [\n",
    "    \"Start_Lat\",\n",
    "    \"Start_Lng\",\n",
    "    \"Distance(mi)\",\n",
    "    \"Temperature(F)\",\n",
    "    \"Humidity(%)\",\n",
    "    \"Visibility(mi)\",\n",
    "    \"day_of_week_acc\",\n",
    "    \"Nautical_Twilight\",\n",
    "    \"season_acc\",\n",
    "]"
   ]
  },
  {
   "cell_type": "code",
   "execution_count": null,
   "metadata": {},
   "outputs": [],
   "source": [
    "features_to_encode = [\n",
    "    col for col in X[features].columns if X[col].dtype not in (\"float64\", \"int64\")\n",
    "]\n",
    "\n",
    "encoder = OrdinalEncoder(cols=features_to_encode)\n",
    "encoder = encoder.fit(X[features])\n",
    "X_encoded = encoder.transform(X)"
   ]
  },
  {
   "cell_type": "code",
   "execution_count": null,
   "metadata": {},
   "outputs": [],
   "source": [
    "Xtrain, Xtest, ytrain, ytest = train_test_split(\n",
    "    X_encoded, y, train_size=0.75, random_state=1\n",
    ")\n",
    "\n",
    "model = catboost.CatBoostClassifier()\n",
    "model.fit(Xtrain, ytrain, verbose=False)"
   ]
  },
  {
   "cell_type": "code",
   "execution_count": null,
   "metadata": {},
   "outputs": [],
   "source": [
    "ypred=pd.DataFrame(model.predict(Xtest),columns=['pred'],index=Xtest.index)"
   ]
  },
  {
   "attachments": {},
   "cell_type": "markdown",
   "metadata": {},
   "source": [
    "## Understanding my model with Shapash"
   ]
  },
  {
   "attachments": {},
   "cell_type": "markdown",
   "metadata": {},
   "source": [
    "### Declare SmartExplainer"
   ]
  },
  {
   "cell_type": "code",
   "execution_count": null,
   "metadata": {},
   "outputs": [],
   "source": [
    "from shapash import SmartExplainer"
   ]
  },
  {
   "cell_type": "code",
   "execution_count": null,
   "metadata": {},
   "outputs": [],
   "source": [
    "features_dict = {\n",
    "    \"day_of_week_acc\": \"Day of week\",\n",
    "    \"season_acc\": \"Season\"\n",
    "}\n",
    "\n",
    "xpl = SmartExplainer(\n",
    "    model=model,\n",
    "    preprocessing=encoder, # Optional: compile step can use inverse_transform method\n",
    "    features_dict=features_dict, # Optional: specifies label for features name\n",
    ")"
   ]
  },
  {
   "attachments": {},
   "cell_type": "markdown",
   "metadata": {},
   "source": [
    "### Declare additional features and compile SmartExplainer\n",
    "\n",
    "To further understand the model we add the year and description features to our SmartExplainer compile."
   ]
  },
  {
   "cell_type": "code",
   "execution_count": null,
   "metadata": {},
   "outputs": [],
   "source": [
    "additional_data = df_car_accident.loc[Xtest.index, [\"year_acc\", \"Description\"]]\n",
    "additional_features_dict = {\"year_acc\": \"Year\"}"
   ]
  },
  {
   "cell_type": "code",
   "execution_count": null,
   "metadata": {},
   "outputs": [],
   "source": [
    "xpl.compile(\n",
    "    x=Xtest, \n",
    "    y_pred=ypred, # Optional: for your own prediction (by default: model.predict)\n",
    "    y_target=ytest, # Optional: allows to display True Values vs Predicted Values\n",
    "    additional_data=additional_data, # Optional: additional dataset of features for Webapp\n",
    "    additional_features_dict=additional_features_dict, # Optional: specifies label for additional features name\n",
    ")"
   ]
  },
  {
   "attachments": {},
   "cell_type": "markdown",
   "metadata": {},
   "source": [
    "### Analyse the model with Shapash WebApp"
   ]
  },
  {
   "cell_type": "code",
   "execution_count": null,
   "metadata": {},
   "outputs": [],
   "source": [
    "app = xpl.run_app()"
   ]
  },
  {
   "attachments": {},
   "cell_type": "markdown",
   "metadata": {},
   "source": [
    "The additional features appear in the dataset with their column names in italic, starting with an underscore:\n",
    "\n",
    "![](https://raw.githubusercontent.com/MAIF/shapash/master/docs/_static/tutorial/tuto-webapp01-additional_in_dataset.png)\n",
    "\n",
    "Having additional data in the WebApp **allows the user to apply filters on those features to study the behavior of the model on specific subsets**.\n",
    "\n",
    "Here we can identify that the model does not work identicaly depending on the years. After applying a filter on the additional Year column to select the accidents occuring in 2019, we can see that the corresponding subset feature importances are not the same as the global ones on the Features Importance graph in the upper left corner of the screen:\n",
    "\n",
    "![](https://raw.githubusercontent.com/MAIF/shapash/master/docs/_static/tutorial/tuto-webapp01-additional_filtered.png)\n",
    "\n",
    "By combining our use of Shapash with Eurybia, we can see that there is indeed a significant data drift per year: [Eurybia - Detect High Data Drift](https://eurybia.readthedocs.io/en/latest/tutorials/data_drift/tutorial02-datadrift-high-datadrift.html)\n",
    "\n",
    "Additional features can also be useful to **give more details about each sample**. For example, having a complete description helps us understand our sample better when exploring our model locally. \n",
    "\n",
    "In our current case, we are now interested in understanding our wrong predictions. As one of many selection options, we can use the True Values Vs Predicted Values graph in the upper right corner of the screen to pick a specific mispredicted sample. We choose here an accident predicted as nonsevere but which is in reality:\n",
    "\n",
    "![](https://raw.githubusercontent.com/MAIF/shapash/master/docs/_static/tutorial/tuto-webapp01-additional_picking.png)\n",
    "\n",
    "The Local Explanation graph in the rigth lower corner of the screen is now udpated with the contributions of the selected sample. It is also now possible to have a closer look at the sample thanks to the Identity Card:\n",
    "\n",
    "![](https://raw.githubusercontent.com/MAIF/shapash/master/docs/_static/tutorial/tuto-webapp01-additional_identity_card.png)\n",
    "\n",
    "We previously gave the Description of the accidents as an additional feature. Thus the description of our selected sample appears in the Identity Card. It says that the road is closed because of the accident. This information could corroborate reality and would show that the accident is actually quite severe. Therefore, there are surely solutions to improve our model."
   ]
  },
  {
   "cell_type": "code",
   "execution_count": null,
   "metadata": {},
   "outputs": [],
   "source": [
    "app.kill()"
   ]
  }
 ],
 "metadata": {
  "kernelspec": {
   "display_name": "shapash_3_9",
   "language": "python",
   "name": "python3"
  },
  "language_info": {
   "codemirror_mode": {
    "name": "ipython",
    "version": 3
   },
   "file_extension": ".py",
   "mimetype": "text/x-python",
   "name": "python",
   "nbconvert_exporter": "python",
   "pygments_lexer": "ipython3",
   "version": "3.9.16"
  },
  "orig_nbformat": 4
 },
 "nbformat": 4,
 "nbformat_minor": 2
}
